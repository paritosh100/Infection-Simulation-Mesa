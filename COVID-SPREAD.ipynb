{
 "cells": [
  {
   "cell_type": "markdown",
   "id": "c03cdc5d-0bdd-4731-8478-c3fc4676f32e",
   "metadata": {
    "jp-MarkdownHeadingCollapsed": true
   },
   "source": [
    "# Libraries set-up"
   ]
  },
  {
   "cell_type": "code",
   "execution_count": 3,
   "id": "5f33308f-1f6d-4af6-8122-92fcf6c0d42b",
   "metadata": {
    "scrolled": true
   },
   "outputs": [
    {
     "name": "stdout",
     "output_type": "stream",
     "text": [
      "Requirement already satisfied: mesa==1.2.1 in c:\\users\\legion\\anaconda3\\lib\\site-packages (1.2.1)\n",
      "Requirement already satisfied: click in c:\\users\\legion\\anaconda3\\lib\\site-packages (from mesa==1.2.1) (8.1.7)\n",
      "Requirement already satisfied: cookiecutter in c:\\users\\legion\\anaconda3\\lib\\site-packages (from mesa==1.2.1) (2.6.0)\n",
      "Requirement already satisfied: networkx in c:\\users\\legion\\anaconda3\\lib\\site-packages (from mesa==1.2.1) (3.3)\n",
      "Requirement already satisfied: numpy in c:\\users\\legion\\appdata\\roaming\\python\\python312\\site-packages (from mesa==1.2.1) (1.26.4)\n",
      "Requirement already satisfied: pandas in c:\\users\\legion\\appdata\\roaming\\python\\python312\\site-packages (from mesa==1.2.1) (2.2.3)\n",
      "Requirement already satisfied: tornado in c:\\users\\legion\\appdata\\roaming\\python\\python312\\site-packages (from mesa==1.2.1) (6.4.1)\n",
      "Requirement already satisfied: tqdm in c:\\users\\legion\\appdata\\roaming\\python\\python312\\site-packages (from mesa==1.2.1) (4.67.1)\n",
      "Requirement already satisfied: colorama in c:\\users\\legion\\appdata\\roaming\\python\\python312\\site-packages (from click->mesa==1.2.1) (0.4.6)\n",
      "Requirement already satisfied: binaryornot>=0.4.4 in c:\\users\\legion\\anaconda3\\lib\\site-packages (from cookiecutter->mesa==1.2.1) (0.4.4)\n",
      "Requirement already satisfied: Jinja2<4.0.0,>=2.7 in c:\\users\\legion\\anaconda3\\lib\\site-packages (from cookiecutter->mesa==1.2.1) (3.1.4)\n",
      "Requirement already satisfied: pyyaml>=5.3.1 in c:\\users\\legion\\anaconda3\\lib\\site-packages (from cookiecutter->mesa==1.2.1) (6.0.1)\n",
      "Requirement already satisfied: python-slugify>=4.0.0 in c:\\users\\legion\\anaconda3\\lib\\site-packages (from cookiecutter->mesa==1.2.1) (5.0.2)\n",
      "Requirement already satisfied: requests>=2.23.0 in c:\\users\\legion\\appdata\\roaming\\python\\python312\\site-packages (from cookiecutter->mesa==1.2.1) (2.32.3)\n",
      "Requirement already satisfied: arrow in c:\\users\\legion\\anaconda3\\lib\\site-packages (from cookiecutter->mesa==1.2.1) (1.2.3)\n",
      "Requirement already satisfied: rich in c:\\users\\legion\\appdata\\roaming\\python\\python312\\site-packages (from cookiecutter->mesa==1.2.1) (13.9.4)\n",
      "Requirement already satisfied: python-dateutil>=2.8.2 in c:\\users\\legion\\appdata\\roaming\\python\\python312\\site-packages (from pandas->mesa==1.2.1) (2.9.0.post0)\n",
      "Requirement already satisfied: pytz>=2020.1 in c:\\users\\legion\\appdata\\roaming\\python\\python312\\site-packages (from pandas->mesa==1.2.1) (2024.2)\n",
      "Requirement already satisfied: tzdata>=2022.7 in c:\\users\\legion\\appdata\\roaming\\python\\python312\\site-packages (from pandas->mesa==1.2.1) (2024.1)\n",
      "Requirement already satisfied: chardet>=3.0.2 in c:\\users\\legion\\anaconda3\\lib\\site-packages (from binaryornot>=0.4.4->cookiecutter->mesa==1.2.1) (4.0.0)\n",
      "Requirement already satisfied: MarkupSafe>=2.0 in c:\\users\\legion\\appdata\\roaming\\python\\python312\\site-packages (from Jinja2<4.0.0,>=2.7->cookiecutter->mesa==1.2.1) (3.0.2)\n",
      "Requirement already satisfied: six>=1.5 in c:\\users\\legion\\appdata\\roaming\\python\\python312\\site-packages (from python-dateutil>=2.8.2->pandas->mesa==1.2.1) (1.16.0)\n",
      "Requirement already satisfied: text-unidecode>=1.3 in c:\\users\\legion\\anaconda3\\lib\\site-packages (from python-slugify>=4.0.0->cookiecutter->mesa==1.2.1) (1.3)\n",
      "Requirement already satisfied: charset-normalizer<4,>=2 in c:\\users\\legion\\appdata\\roaming\\python\\python312\\site-packages (from requests>=2.23.0->cookiecutter->mesa==1.2.1) (3.4.0)\n",
      "Requirement already satisfied: idna<4,>=2.5 in c:\\users\\legion\\appdata\\roaming\\python\\python312\\site-packages (from requests>=2.23.0->cookiecutter->mesa==1.2.1) (3.10)\n",
      "Requirement already satisfied: urllib3<3,>=1.21.1 in c:\\users\\legion\\appdata\\roaming\\python\\python312\\site-packages (from requests>=2.23.0->cookiecutter->mesa==1.2.1) (2.2.3)\n",
      "Requirement already satisfied: certifi>=2017.4.17 in c:\\users\\legion\\appdata\\roaming\\python\\python312\\site-packages (from requests>=2.23.0->cookiecutter->mesa==1.2.1) (2024.6.2)\n",
      "Requirement already satisfied: markdown-it-py>=2.2.0 in c:\\users\\legion\\appdata\\roaming\\python\\python312\\site-packages (from rich->cookiecutter->mesa==1.2.1) (3.0.0)\n",
      "Requirement already satisfied: pygments<3.0.0,>=2.13.0 in c:\\users\\legion\\appdata\\roaming\\python\\python312\\site-packages (from rich->cookiecutter->mesa==1.2.1) (2.18.0)\n",
      "Requirement already satisfied: mdurl~=0.1 in c:\\users\\legion\\appdata\\roaming\\python\\python312\\site-packages (from markdown-it-py>=2.2.0->rich->cookiecutter->mesa==1.2.1) (0.1.2)\n",
      "Note: you may need to restart the kernel to use updated packages.\n"
     ]
    }
   ],
   "source": [
    "pip install mesa==1.2.1"
   ]
  },
  {
   "cell_type": "code",
   "execution_count": 4,
   "id": "e36abdbd-b3ab-40bf-a798-ccae62e36714",
   "metadata": {
    "scrolled": true
   },
   "outputs": [
    {
     "name": "stdout",
     "output_type": "stream",
     "text": [
      "Requirement already satisfied: mesa[viz] in c:\\users\\legion\\anaconda3\\lib\\site-packages (1.2.1)\n",
      "Requirement already satisfied: click in c:\\users\\legion\\anaconda3\\lib\\site-packages (from mesa[viz]) (8.1.7)\n",
      "Requirement already satisfied: cookiecutter in c:\\users\\legion\\anaconda3\\lib\\site-packages (from mesa[viz]) (2.6.0)\n",
      "Requirement already satisfied: networkx in c:\\users\\legion\\anaconda3\\lib\\site-packages (from mesa[viz]) (3.3)\n",
      "Requirement already satisfied: numpy in c:\\users\\legion\\appdata\\roaming\\python\\python312\\site-packages (from mesa[viz]) (1.26.4)\n",
      "Requirement already satisfied: pandas in c:\\users\\legion\\appdata\\roaming\\python\\python312\\site-packages (from mesa[viz]) (2.2.3)\n",
      "Requirement already satisfied: tornado in c:\\users\\legion\\appdata\\roaming\\python\\python312\\site-packages (from mesa[viz]) (6.4.1)\n",
      "Requirement already satisfied: tqdm in c:\\users\\legion\\appdata\\roaming\\python\\python312\\site-packages (from mesa[viz]) (4.67.1)\n",
      "Requirement already satisfied: colorama in c:\\users\\legion\\appdata\\roaming\\python\\python312\\site-packages (from click->mesa[viz]) (0.4.6)\n",
      "Requirement already satisfied: binaryornot>=0.4.4 in c:\\users\\legion\\anaconda3\\lib\\site-packages (from cookiecutter->mesa[viz]) (0.4.4)\n",
      "Requirement already satisfied: Jinja2<4.0.0,>=2.7 in c:\\users\\legion\\anaconda3\\lib\\site-packages (from cookiecutter->mesa[viz]) (3.1.4)\n",
      "Requirement already satisfied: pyyaml>=5.3.1 in c:\\users\\legion\\anaconda3\\lib\\site-packages (from cookiecutter->mesa[viz]) (6.0.1)\n",
      "Requirement already satisfied: python-slugify>=4.0.0 in c:\\users\\legion\\anaconda3\\lib\\site-packages (from cookiecutter->mesa[viz]) (5.0.2)\n",
      "Requirement already satisfied: requests>=2.23.0 in c:\\users\\legion\\appdata\\roaming\\python\\python312\\site-packages (from cookiecutter->mesa[viz]) (2.32.3)\n",
      "Requirement already satisfied: arrow in c:\\users\\legion\\anaconda3\\lib\\site-packages (from cookiecutter->mesa[viz]) (1.2.3)\n",
      "Requirement already satisfied: rich in c:\\users\\legion\\appdata\\roaming\\python\\python312\\site-packages (from cookiecutter->mesa[viz]) (13.9.4)\n",
      "Requirement already satisfied: python-dateutil>=2.8.2 in c:\\users\\legion\\appdata\\roaming\\python\\python312\\site-packages (from pandas->mesa[viz]) (2.9.0.post0)\n",
      "Requirement already satisfied: pytz>=2020.1 in c:\\users\\legion\\appdata\\roaming\\python\\python312\\site-packages (from pandas->mesa[viz]) (2024.2)\n",
      "Requirement already satisfied: tzdata>=2022.7 in c:\\users\\legion\\appdata\\roaming\\python\\python312\\site-packages (from pandas->mesa[viz]) (2024.1)\n",
      "Requirement already satisfied: chardet>=3.0.2 in c:\\users\\legion\\anaconda3\\lib\\site-packages (from binaryornot>=0.4.4->cookiecutter->mesa[viz]) (4.0.0)\n",
      "Requirement already satisfied: MarkupSafe>=2.0 in c:\\users\\legion\\appdata\\roaming\\python\\python312\\site-packages (from Jinja2<4.0.0,>=2.7->cookiecutter->mesa[viz]) (3.0.2)\n",
      "Requirement already satisfied: six>=1.5 in c:\\users\\legion\\appdata\\roaming\\python\\python312\\site-packages (from python-dateutil>=2.8.2->pandas->mesa[viz]) (1.16.0)\n",
      "Requirement already satisfied: text-unidecode>=1.3 in c:\\users\\legion\\anaconda3\\lib\\site-packages (from python-slugify>=4.0.0->cookiecutter->mesa[viz]) (1.3)\n",
      "Requirement already satisfied: charset-normalizer<4,>=2 in c:\\users\\legion\\appdata\\roaming\\python\\python312\\site-packages (from requests>=2.23.0->cookiecutter->mesa[viz]) (3.4.0)\n",
      "Requirement already satisfied: idna<4,>=2.5 in c:\\users\\legion\\appdata\\roaming\\python\\python312\\site-packages (from requests>=2.23.0->cookiecutter->mesa[viz]) (3.10)\n",
      "Requirement already satisfied: urllib3<3,>=1.21.1 in c:\\users\\legion\\appdata\\roaming\\python\\python312\\site-packages (from requests>=2.23.0->cookiecutter->mesa[viz]) (2.2.3)\n",
      "Requirement already satisfied: certifi>=2017.4.17 in c:\\users\\legion\\appdata\\roaming\\python\\python312\\site-packages (from requests>=2.23.0->cookiecutter->mesa[viz]) (2024.6.2)\n",
      "Requirement already satisfied: markdown-it-py>=2.2.0 in c:\\users\\legion\\appdata\\roaming\\python\\python312\\site-packages (from rich->cookiecutter->mesa[viz]) (3.0.0)\n",
      "Requirement already satisfied: pygments<3.0.0,>=2.13.0 in c:\\users\\legion\\appdata\\roaming\\python\\python312\\site-packages (from rich->cookiecutter->mesa[viz]) (2.18.0)\n",
      "Requirement already satisfied: mdurl~=0.1 in c:\\users\\legion\\appdata\\roaming\\python\\python312\\site-packages (from markdown-it-py>=2.2.0->rich->cookiecutter->mesa[viz]) (0.1.2)\n",
      "Note: you may need to restart the kernel to use updated packages.\n"
     ]
    },
    {
     "name": "stderr",
     "output_type": "stream",
     "text": [
      "WARNING: mesa 1.2.1 does not provide the extra 'viz'\n"
     ]
    }
   ],
   "source": [
    "pip install --pre mesa[viz]"
   ]
  },
  {
   "cell_type": "code",
   "execution_count": 5,
   "id": "84cae6d1-41ec-4b56-9338-a92f22a19bbd",
   "metadata": {
    "scrolled": true
   },
   "outputs": [
    {
     "name": "stdout",
     "output_type": "stream",
     "text": [
      "Name: Mesa\n",
      "Version: 1.2.1\n",
      "Summary: Agent-based modeling (ABM) in Python 3+\n",
      "Home-page: https://github.com/projectmesa/mesa\n",
      "Author: Project Mesa Team\n",
      "Author-email: projectmesa@googlegroups.com\n",
      "License: Apache 2.0\n",
      "Location: C:\\Users\\Legion\\anaconda3\\Lib\\site-packages\n",
      "Requires: click, cookiecutter, networkx, numpy, pandas, tornado, tqdm\n",
      "Required-by: \n",
      "Note: you may need to restart the kernel to use updated packages.\n"
     ]
    }
   ],
   "source": [
    "pip show mesa"
   ]
  },
  {
   "cell_type": "markdown",
   "id": "7c247492-9b9c-4da4-96de-ef203b999cd2",
   "metadata": {
    "jp-MarkdownHeadingCollapsed": true
   },
   "source": [
    "# Importing Libraries"
   ]
  },
  {
   "cell_type": "code",
   "execution_count": 7,
   "id": "aeec7a53-f1fe-4848-afef-2f578e2f6a21",
   "metadata": {},
   "outputs": [],
   "source": [
    "import numpy as np\n",
    "import pandas as pd\n",
    "\n",
    "import matplotlib.pyplot as plt\n",
    "import matplotlib.animation as animation\n",
    "%matplotlib inline\n",
    "\n",
    "import mesa \n",
    "from mesa import Agent, Model\n",
    "from mesa.time import RandomActivation\n",
    "from mesa.space import MultiGrid\n",
    "from mesa.datacollection import DataCollector"
   ]
  },
  {
   "cell_type": "markdown",
   "id": "ffbd52c3-7166-4d15-9f06-b7a51d02a6bd",
   "metadata": {},
   "source": [
    "# Defining Model"
   ]
  },
  {
   "cell_type": "code",
   "execution_count": 9,
   "id": "b18fb565-b496-4603-bd3b-b7c057a10a29",
   "metadata": {},
   "outputs": [],
   "source": [
    "class PersonAgent(Agent):\n",
    "    def __init__(self, unique_id, model, state=\"S\"):\n",
    "        super().__init__(unique_id, model)\n",
    "        self.state = state\n",
    "        self.infected_time = 0\n",
    "\n",
    "    def step(self):\n",
    "        if self.state == \"I\":\n",
    "            # Infect neighbors first\n",
    "            neighbors = self.model.grid.get_neighbors(\n",
    "                self.pos, moore=True, include_center=False)\n",
    "            for neighbor in neighbors:\n",
    "                if neighbor.state == \"S\" and self.random.random() < self.model.infection_chance:\n",
    "                    neighbor.state = \"I\"\n",
    "    \n",
    "            # Then increment infection duration\n",
    "            self.infected_time += 1\n",
    "            if self.infected_time >= self.model.recovery_time:\n",
    "                self.state = \"R\"\n",
    "    \n",
    "        # Random movement\n",
    "        possible_steps = self.model.grid.get_neighborhood(\n",
    "            self.pos, moore=True, include_center=False)\n",
    "        new_pos = self.random.choice(possible_steps)\n",
    "        self.model.grid.move_agent(self, new_pos)\n"
   ]
  },
  {
   "cell_type": "code",
   "execution_count": 10,
   "id": "5484331b-22ee-4902-85ba-3e368503a3c8",
   "metadata": {},
   "outputs": [],
   "source": [
    "class InfectionModel(Model):\n",
    "    def __init__(self, N=100, width=20, height=20, infection_chance=0.2, recovery_time=10):\n",
    "        super().__init__()\n",
    "        self.num_agents = N\n",
    "        self.grid = MultiGrid(width, height, torus=True)\n",
    "        self.schedule = RandomActivation(self)\n",
    "        self.infection_chance = infection_chance\n",
    "        self.recovery_time = recovery_time\n",
    "\n",
    "        # Create agents\n",
    "        for i in range(self.num_agents):\n",
    "            state = \"I\" if i == 0 else \"S\"  # One infected, rest susceptible\n",
    "            agent = PersonAgent(i, self, state)\n",
    "            self.schedule.add(agent)\n",
    "            x = self.random.randrange(width)\n",
    "            y = self.random.randrange(height)\n",
    "            self.grid.place_agent(agent, (x, y))\n",
    "\n",
    "        self.datacollector = DataCollector(\n",
    "            {\n",
    "                \"Susceptible\": lambda m: self.count_state(\"S\"),\n",
    "                \"Infected\": lambda m: self.count_state(\"I\"),\n",
    "                \"Recovered\": lambda m: self.count_state(\"R\"),\n",
    "            }\n",
    "        )\n",
    "\n",
    "    def count_state(self, state):\n",
    "        return sum(1 for a in self.schedule.agents if a.state == state)\n",
    "\n",
    "    def step(self):\n",
    "        self.datacollector.collect(self)\n",
    "        self.schedule.step()"
   ]
  },
  {
   "cell_type": "markdown",
   "id": "a9106cff-bda7-4935-aeb2-348bbdba0766",
   "metadata": {},
   "source": [
    "# Model Initialization"
   ]
  },
  {
   "cell_type": "code",
   "execution_count": 12,
   "id": "9d4cf8ba-51f0-40d3-a39a-0dcfd67f8bf1",
   "metadata": {},
   "outputs": [],
   "source": [
    "model = InfectionModel(N=100)"
   ]
  },
  {
   "cell_type": "markdown",
   "id": "e0044cd4-8d23-436f-b7b1-d6ef2ecd6eb9",
   "metadata": {},
   "source": [
    "# Visualizing the Model"
   ]
  },
  {
   "cell_type": "code",
   "execution_count": 14,
   "id": "5bded277-fc58-45bd-8ebd-4551ce89954d",
   "metadata": {},
   "outputs": [
    {
     "data": {
      "image/png": "[encoded data removed]",
      "text/plain": [
       "<Figure size 600x600 with 1 Axes>"
      ]
     },
     "metadata": {},
     "output_type": "display_data"
    }
   ],
   "source": [
    "fig, ax = plt.subplots(figsize=(6, 6))\n",
    "\n",
    "colors = {\"S\": \"blue\", \"I\": \"red\", \"R\": \"green\"}\n",
    "\n",
    "def update(frame):\n",
    "    ax.clear()\n",
    "    model.step()\n",
    "    agent_positions = [(agent.pos[0], agent.pos[1], colors[agent.state])\n",
    "                       for agent in model.schedule.agents]\n",
    "    \n",
    "    for x, y, c in agent_positions:\n",
    "        ax.scatter(x, y, color=c, s=40)\n",
    "    ax.set_title(f\"Step {frame}\")\n",
    "    ax.set_xlim(0, model.grid.width)\n",
    "    ax.set_ylim(0, model.grid.height)\n",
    "    ax.set_xticks([])\n",
    "    ax.set_yticks([])\n",
    "\n",
    "ani = animation.FuncAnimation(fig, update, frames=20, repeat=False)\n",
    "plt.show()"
   ]
  },
  {
   "cell_type": "code",
   "execution_count": 15,
   "id": "cd91a96d-2dc5-4614-9e05-2499c005a4a3",
   "metadata": {},
   "outputs": [],
   "source": [
    "ani.save(\"infection_sim2.gif\", writer=\"pillow\", fps=1)"
   ]
  },
  {
   "cell_type": "code",
   "execution_count": 16,
   "id": "1e2c5b69-7037-4836-9b65-bf74ecbe20fa",
   "metadata": {},
   "outputs": [
    {
     "name": "stdout",
     "output_type": "stream",
     "text": [
      "Agent 0 is in state R\n",
      "Agent 1 is in state S\n",
      "Agent 2 is in state I\n",
      "Agent 3 is in state I\n",
      "Agent 4 is in state R\n",
      "Agent 5 is in state S\n",
      "Agent 6 is in state S\n",
      "Agent 7 is in state I\n",
      "Agent 8 is in state R\n",
      "Agent 9 is in state I\n",
      "Agent 10 is in state I\n",
      "Agent 11 is in state I\n",
      "Agent 12 is in state I\n",
      "Agent 13 is in state S\n",
      "Agent 14 is in state I\n",
      "Agent 15 is in state R\n",
      "Agent 16 is in state I\n",
      "Agent 17 is in state R\n",
      "Agent 18 is in state S\n",
      "Agent 19 is in state I\n",
      "Agent 20 is in state I\n",
      "Agent 21 is in state I\n",
      "Agent 22 is in state I\n",
      "Agent 23 is in state S\n",
      "Agent 24 is in state S\n",
      "Agent 25 is in state R\n",
      "Agent 26 is in state R\n",
      "Agent 27 is in state I\n",
      "Agent 28 is in state R\n",
      "Agent 29 is in state I\n",
      "Agent 30 is in state I\n",
      "Agent 31 is in state I\n",
      "Agent 32 is in state S\n",
      "Agent 33 is in state I\n",
      "Agent 34 is in state I\n",
      "Agent 35 is in state S\n",
      "Agent 36 is in state S\n",
      "Agent 37 is in state I\n",
      "Agent 38 is in state S\n",
      "Agent 39 is in state I\n",
      "Agent 40 is in state I\n",
      "Agent 41 is in state R\n",
      "Agent 42 is in state R\n",
      "Agent 43 is in state R\n",
      "Agent 44 is in state I\n",
      "Agent 45 is in state S\n",
      "Agent 46 is in state R\n",
      "Agent 47 is in state I\n",
      "Agent 48 is in state I\n",
      "Agent 49 is in state I\n",
      "Agent 50 is in state I\n",
      "Agent 51 is in state S\n",
      "Agent 52 is in state I\n",
      "Agent 53 is in state I\n",
      "Agent 54 is in state I\n",
      "Agent 55 is in state I\n",
      "Agent 56 is in state S\n",
      "Agent 57 is in state S\n",
      "Agent 58 is in state S\n",
      "Agent 59 is in state S\n",
      "Agent 60 is in state I\n",
      "Agent 61 is in state I\n",
      "Agent 62 is in state I\n",
      "Agent 63 is in state R\n",
      "Agent 64 is in state I\n",
      "Agent 65 is in state R\n",
      "Agent 66 is in state I\n",
      "Agent 67 is in state I\n",
      "Agent 68 is in state I\n",
      "Agent 69 is in state I\n",
      "Agent 70 is in state I\n",
      "Agent 71 is in state I\n",
      "Agent 72 is in state I\n",
      "Agent 73 is in state I\n",
      "Agent 74 is in state I\n",
      "Agent 75 is in state R\n",
      "Agent 76 is in state I\n",
      "Agent 77 is in state S\n",
      "Agent 78 is in state S\n",
      "Agent 79 is in state I\n",
      "Agent 80 is in state S\n",
      "Agent 81 is in state R\n",
      "Agent 82 is in state R\n",
      "Agent 83 is in state I\n",
      "Agent 84 is in state S\n",
      "Agent 85 is in state I\n",
      "Agent 86 is in state I\n",
      "Agent 87 is in state S\n",
      "Agent 88 is in state R\n",
      "Agent 89 is in state S\n",
      "Agent 90 is in state I\n",
      "Agent 91 is in state S\n",
      "Agent 92 is in state R\n",
      "Agent 93 is in state I\n",
      "Agent 94 is in state R\n",
      "Agent 95 is in state S\n",
      "Agent 96 is in state I\n",
      "Agent 97 is in state R\n",
      "Agent 98 is in state S\n",
      "Agent 99 is in state S\n"
     ]
    }
   ],
   "source": [
    "for agent in model.schedule.agents:\n",
    "        print(f\"Agent {agent.unique_id} is in state {agent.state}\")"
   ]
  },
  {
   "cell_type": "code",
   "execution_count": 34,
   "id": "8e0bc459-4743-4da3-ab62-7f238e1750aa",
   "metadata": {},
   "outputs": [
    {
     "data": {
      "image/png": "[encoded data removed]",
      "text/plain": [
       "<Figure size 1000x500 with 1 Axes>"
      ]
     },
     "metadata": {},
     "output_type": "display_data"
    },
    {
     "data": {
      "text/plain": [
       "<Figure size 640x480 with 0 Axes>"
      ]
     },
     "metadata": {},
     "output_type": "display_data"
    }
   ],
   "source": [
    "import matplotlib.pyplot as plt\n",
    "\n",
    "results = model.datacollector.get_model_vars_dataframe()\n",
    "results.plot(figsize=(10, 5), title=\"SIR Model — Agent-Based Simulation\")\n",
    "plt.xlabel(\"Step\")\n",
    "plt.ylabel(\"Number of Agents\")\n",
    "plt.grid(True)\n",
    "plt.show()\n",
    "\n",
    "plt.savefig(\"infection_plot.png\", dpi=300, bbox_inches=\"tight\")\n",
    "plt.show()"
   ]
  },
  {
   "cell_type": "code",
   "execution_count": 18,
   "id": "b496bd64-db2d-4242-bb6b-984febed579f",
   "metadata": {},
   "outputs": [
    {
     "name": "stdout",
     "output_type": "stream",
     "text": [
      "Initial state counts:\n",
      "S: 27\n",
      "I: 52\n",
      "R: 21\n"
     ]
    }
   ],
   "source": [
    "print(\"Initial state counts:\")\n",
    "print(\"S:\", model.count_state(\"S\"))\n",
    "print(\"I:\", model.count_state(\"I\"))\n",
    "print(\"R:\", model.count_state(\"R\"))"
   ]
  },
  {
   "cell_type": "code",
   "execution_count": 19,
   "id": "107d6e1f-77cd-41f2-b5fc-564c351fc758",
   "metadata": {},
   "outputs": [
    {
     "data": {
      "text/plain": [
       "<Figure size 640x480 with 0 Axes>"
      ]
     },
     "metadata": {},
     "output_type": "display_data"
    }
   ],
   "source": [
    "# Save to file\n",
    "plt.savefig(\"infection_plot.png\", dpi=300, bbox_inches=\"tight\")\n",
    "plt.show()"
   ]
  }
 ],
 "metadata": {
  "kernelspec": {
   "display_name": "Python 3 (ipykernel)",
   "language": "python",
   "name": "python3"
  },
  "language_info": {
   "codemirror_mode": {
    "name": "ipython",
    "version": 3
   },
   "file_extension": ".py",
   "mimetype": "text/x-python",
   "name": "python",
   "nbconvert_exporter": "python",
   "pygments_lexer": "ipython3",
   "version": "3.12.7"
  }
 },
 "nbformat": 4,
 "nbformat_minor": 5
}
